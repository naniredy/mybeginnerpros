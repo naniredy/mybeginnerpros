{
  "nbformat": 4,
  "nbformat_minor": 0,
  "metadata": {
    "colab": {
      "provenance": [],
      "authorship_tag": "ABX9TyPr7dZnaNkndpLVKjQWl64H",
      "include_colab_link": true
    },
    "kernelspec": {
      "name": "python3",
      "display_name": "Python 3"
    },
    "language_info": {
      "name": "python"
    },
    "accelerator": "GPU"
  },
  "cells": [
    {
      "cell_type": "markdown",
      "metadata": {
        "id": "view-in-github",
        "colab_type": "text"
      },
      "source": [
        "<a href=\"https://colab.research.google.com/github/naniredy/mybeginnerpros/blob/main/work_shop_6.ipynb\" target=\"_parent\"><img src=\"https://colab.research.google.com/assets/colab-badge.svg\" alt=\"Open In Colab\"/></a>"
      ]
    },
    {
      "cell_type": "code",
      "execution_count": null,
      "metadata": {
        "id": "XJ_AUbNK1lTw"
      },
      "outputs": [],
      "source": []
    },
    {
      "cell_type": "code",
      "source": [
        "import numpy as np\n",
        "import pandas as pd\n",
        "import matplotlib.pyplot as plt\n",
        "import tensorflow as tf\n",
        "import seaborn as sns\n",
        "from sklearn.preprocessing import StandardScaler\n",
        "from sklearn.model_selection import train_test_split"
      ],
      "metadata": {
        "id": "J4w6bgy12v4K"
      },
      "execution_count": null,
      "outputs": []
    },
    {
      "cell_type": "code",
      "source": [
        "cardio_data = pd.read_csv('Cardiotocographic.csv')\n",
        "cardio_data.head()"
      ],
      "metadata": {
        "colab": {
          "base_uri": "https://localhost:8080/",
          "height": 270
        },
        "id": "LI7QaMzS4EfG",
        "outputId": "4fa5e3e5-800d-4d6e-e182-8e1b00bba89f"
      },
      "execution_count": null,
      "outputs": [
        {
          "output_type": "execute_result",
          "data": {
            "text/plain": [
              "   BPM       APC  FMPS      UCPS      DLPS  SDPS  PDPS  ASTV  MSTV  ALTV  \\\n",
              "0  120  0.000000   0.0  0.000000  0.000000   0.0   0.0    73   0.5    43   \n",
              "1  132  0.006380   0.0  0.006380  0.003190   0.0   0.0    17   2.1     0   \n",
              "2  133  0.003322   0.0  0.008306  0.003322   0.0   0.0    16   2.1     0   \n",
              "3  134  0.002561   0.0  0.007682  0.002561   0.0   0.0    16   2.4     0   \n",
              "4  132  0.006515   0.0  0.008143  0.000000   0.0   0.0    16   2.4     0   \n",
              "\n",
              "   MLTV  Width  Min  Max  NSP  \n",
              "0   2.4     64   62  126    2  \n",
              "1  10.4    130   68  198    1  \n",
              "2  13.4    130   68  198    1  \n",
              "3  23.0    117   53  170    1  \n",
              "4  19.9    117   53  170    1  "
            ],
            "text/html": [
              "\n",
              "  <div id=\"df-489a7816-769f-408c-8fdf-404e09c71865\">\n",
              "    <div class=\"colab-df-container\">\n",
              "      <div>\n",
              "<style scoped>\n",
              "    .dataframe tbody tr th:only-of-type {\n",
              "        vertical-align: middle;\n",
              "    }\n",
              "\n",
              "    .dataframe tbody tr th {\n",
              "        vertical-align: top;\n",
              "    }\n",
              "\n",
              "    .dataframe thead th {\n",
              "        text-align: right;\n",
              "    }\n",
              "</style>\n",
              "<table border=\"1\" class=\"dataframe\">\n",
              "  <thead>\n",
              "    <tr style=\"text-align: right;\">\n",
              "      <th></th>\n",
              "      <th>BPM</th>\n",
              "      <th>APC</th>\n",
              "      <th>FMPS</th>\n",
              "      <th>UCPS</th>\n",
              "      <th>DLPS</th>\n",
              "      <th>SDPS</th>\n",
              "      <th>PDPS</th>\n",
              "      <th>ASTV</th>\n",
              "      <th>MSTV</th>\n",
              "      <th>ALTV</th>\n",
              "      <th>MLTV</th>\n",
              "      <th>Width</th>\n",
              "      <th>Min</th>\n",
              "      <th>Max</th>\n",
              "      <th>NSP</th>\n",
              "    </tr>\n",
              "  </thead>\n",
              "  <tbody>\n",
              "    <tr>\n",
              "      <th>0</th>\n",
              "      <td>120</td>\n",
              "      <td>0.000000</td>\n",
              "      <td>0.0</td>\n",
              "      <td>0.000000</td>\n",
              "      <td>0.000000</td>\n",
              "      <td>0.0</td>\n",
              "      <td>0.0</td>\n",
              "      <td>73</td>\n",
              "      <td>0.5</td>\n",
              "      <td>43</td>\n",
              "      <td>2.4</td>\n",
              "      <td>64</td>\n",
              "      <td>62</td>\n",
              "      <td>126</td>\n",
              "      <td>2</td>\n",
              "    </tr>\n",
              "    <tr>\n",
              "      <th>1</th>\n",
              "      <td>132</td>\n",
              "      <td>0.006380</td>\n",
              "      <td>0.0</td>\n",
              "      <td>0.006380</td>\n",
              "      <td>0.003190</td>\n",
              "      <td>0.0</td>\n",
              "      <td>0.0</td>\n",
              "      <td>17</td>\n",
              "      <td>2.1</td>\n",
              "      <td>0</td>\n",
              "      <td>10.4</td>\n",
              "      <td>130</td>\n",
              "      <td>68</td>\n",
              "      <td>198</td>\n",
              "      <td>1</td>\n",
              "    </tr>\n",
              "    <tr>\n",
              "      <th>2</th>\n",
              "      <td>133</td>\n",
              "      <td>0.003322</td>\n",
              "      <td>0.0</td>\n",
              "      <td>0.008306</td>\n",
              "      <td>0.003322</td>\n",
              "      <td>0.0</td>\n",
              "      <td>0.0</td>\n",
              "      <td>16</td>\n",
              "      <td>2.1</td>\n",
              "      <td>0</td>\n",
              "      <td>13.4</td>\n",
              "      <td>130</td>\n",
              "      <td>68</td>\n",
              "      <td>198</td>\n",
              "      <td>1</td>\n",
              "    </tr>\n",
              "    <tr>\n",
              "      <th>3</th>\n",
              "      <td>134</td>\n",
              "      <td>0.002561</td>\n",
              "      <td>0.0</td>\n",
              "      <td>0.007682</td>\n",
              "      <td>0.002561</td>\n",
              "      <td>0.0</td>\n",
              "      <td>0.0</td>\n",
              "      <td>16</td>\n",
              "      <td>2.4</td>\n",
              "      <td>0</td>\n",
              "      <td>23.0</td>\n",
              "      <td>117</td>\n",
              "      <td>53</td>\n",
              "      <td>170</td>\n",
              "      <td>1</td>\n",
              "    </tr>\n",
              "    <tr>\n",
              "      <th>4</th>\n",
              "      <td>132</td>\n",
              "      <td>0.006515</td>\n",
              "      <td>0.0</td>\n",
              "      <td>0.008143</td>\n",
              "      <td>0.000000</td>\n",
              "      <td>0.0</td>\n",
              "      <td>0.0</td>\n",
              "      <td>16</td>\n",
              "      <td>2.4</td>\n",
              "      <td>0</td>\n",
              "      <td>19.9</td>\n",
              "      <td>117</td>\n",
              "      <td>53</td>\n",
              "      <td>170</td>\n",
              "      <td>1</td>\n",
              "    </tr>\n",
              "  </tbody>\n",
              "</table>\n",
              "</div>\n",
              "      <button class=\"colab-df-convert\" onclick=\"convertToInteractive('df-489a7816-769f-408c-8fdf-404e09c71865')\"\n",
              "              title=\"Convert this dataframe to an interactive table.\"\n",
              "              style=\"display:none;\">\n",
              "        \n",
              "  <svg xmlns=\"http://www.w3.org/2000/svg\" height=\"24px\"viewBox=\"0 0 24 24\"\n",
              "       width=\"24px\">\n",
              "    <path d=\"M0 0h24v24H0V0z\" fill=\"none\"/>\n",
              "    <path d=\"M18.56 5.44l.94 2.06.94-2.06 2.06-.94-2.06-.94-.94-2.06-.94 2.06-2.06.94zm-11 1L8.5 8.5l.94-2.06 2.06-.94-2.06-.94L8.5 2.5l-.94 2.06-2.06.94zm10 10l.94 2.06.94-2.06 2.06-.94-2.06-.94-.94-2.06-.94 2.06-2.06.94z\"/><path d=\"M17.41 7.96l-1.37-1.37c-.4-.4-.92-.59-1.43-.59-.52 0-1.04.2-1.43.59L10.3 9.45l-7.72 7.72c-.78.78-.78 2.05 0 2.83L4 21.41c.39.39.9.59 1.41.59.51 0 1.02-.2 1.41-.59l7.78-7.78 2.81-2.81c.8-.78.8-2.07 0-2.86zM5.41 20L4 18.59l7.72-7.72 1.47 1.35L5.41 20z\"/>\n",
              "  </svg>\n",
              "      </button>\n",
              "      \n",
              "  <style>\n",
              "    .colab-df-container {\n",
              "      display:flex;\n",
              "      flex-wrap:wrap;\n",
              "      gap: 12px;\n",
              "    }\n",
              "\n",
              "    .colab-df-convert {\n",
              "      background-color: #E8F0FE;\n",
              "      border: none;\n",
              "      border-radius: 50%;\n",
              "      cursor: pointer;\n",
              "      display: none;\n",
              "      fill: #1967D2;\n",
              "      height: 32px;\n",
              "      padding: 0 0 0 0;\n",
              "      width: 32px;\n",
              "    }\n",
              "\n",
              "    .colab-df-convert:hover {\n",
              "      background-color: #E2EBFA;\n",
              "      box-shadow: 0px 1px 2px rgba(60, 64, 67, 0.3), 0px 1px 3px 1px rgba(60, 64, 67, 0.15);\n",
              "      fill: #174EA6;\n",
              "    }\n",
              "\n",
              "    [theme=dark] .colab-df-convert {\n",
              "      background-color: #3B4455;\n",
              "      fill: #D2E3FC;\n",
              "    }\n",
              "\n",
              "    [theme=dark] .colab-df-convert:hover {\n",
              "      background-color: #434B5C;\n",
              "      box-shadow: 0px 1px 3px 1px rgba(0, 0, 0, 0.15);\n",
              "      filter: drop-shadow(0px 1px 2px rgba(0, 0, 0, 0.3));\n",
              "      fill: #FFFFFF;\n",
              "    }\n",
              "  </style>\n",
              "\n",
              "      <script>\n",
              "        const buttonEl =\n",
              "          document.querySelector('#df-489a7816-769f-408c-8fdf-404e09c71865 button.colab-df-convert');\n",
              "        buttonEl.style.display =\n",
              "          google.colab.kernel.accessAllowed ? 'block' : 'none';\n",
              "\n",
              "        async function convertToInteractive(key) {\n",
              "          const element = document.querySelector('#df-489a7816-769f-408c-8fdf-404e09c71865');\n",
              "          const dataTable =\n",
              "            await google.colab.kernel.invokeFunction('convertToInteractive',\n",
              "                                                     [key], {});\n",
              "          if (!dataTable) return;\n",
              "\n",
              "          const docLinkHtml = 'Like what you see? Visit the ' +\n",
              "            '<a target=\"_blank\" href=https://colab.research.google.com/notebooks/data_table.ipynb>data table notebook</a>'\n",
              "            + ' to learn more about interactive tables.';\n",
              "          element.innerHTML = '';\n",
              "          dataTable['output_type'] = 'display_data';\n",
              "          await google.colab.output.renderOutput(dataTable, element);\n",
              "          const docLink = document.createElement('div');\n",
              "          docLink.innerHTML = docLinkHtml;\n",
              "          element.appendChild(docLink);\n",
              "        }\n",
              "      </script>\n",
              "    </div>\n",
              "  </div>\n",
              "  "
            ]
          },
          "metadata": {},
          "execution_count": 6
        }
      ]
    },
    {
      "cell_type": "code",
      "source": [
        "cardio_data.tail()"
      ],
      "metadata": {
        "colab": {
          "base_uri": "https://localhost:8080/",
          "height": 270
        },
        "id": "ZyZasVER4xNu",
        "outputId": "13961dd3-1718-4f24-fded-4ff99461dfc6"
      },
      "execution_count": null,
      "outputs": [
        {
          "output_type": "execute_result",
          "data": {
            "text/plain": [
              "      BPM       APC      FMPS      UCPS  DLPS  SDPS  PDPS  ASTV  MSTV  ALTV  \\\n",
              "2121  140  0.000000  0.000000  0.007426   0.0   0.0   0.0    79   0.2    25   \n",
              "2122  140  0.000775  0.000000  0.006971   0.0   0.0   0.0    78   0.4    22   \n",
              "2123  140  0.000980  0.000000  0.006863   0.0   0.0   0.0    79   0.4    20   \n",
              "2124  140  0.000679  0.000000  0.006110   0.0   0.0   0.0    78   0.4    27   \n",
              "2125  142  0.001616  0.001616  0.008078   0.0   0.0   0.0    74   0.4    36   \n",
              "\n",
              "      MLTV  Width  Min  Max  NSP  \n",
              "2121   7.2     40  137  177    2  \n",
              "2122   7.1     66  103  169    2  \n",
              "2123   6.1     67  103  170    2  \n",
              "2124   7.0     66  103  169    2  \n",
              "2125   5.0     42  117  159    1  "
            ],
            "text/html": [
              "\n",
              "  <div id=\"df-ff408261-e85d-4340-933e-5d2de874d2a3\">\n",
              "    <div class=\"colab-df-container\">\n",
              "      <div>\n",
              "<style scoped>\n",
              "    .dataframe tbody tr th:only-of-type {\n",
              "        vertical-align: middle;\n",
              "    }\n",
              "\n",
              "    .dataframe tbody tr th {\n",
              "        vertical-align: top;\n",
              "    }\n",
              "\n",
              "    .dataframe thead th {\n",
              "        text-align: right;\n",
              "    }\n",
              "</style>\n",
              "<table border=\"1\" class=\"dataframe\">\n",
              "  <thead>\n",
              "    <tr style=\"text-align: right;\">\n",
              "      <th></th>\n",
              "      <th>BPM</th>\n",
              "      <th>APC</th>\n",
              "      <th>FMPS</th>\n",
              "      <th>UCPS</th>\n",
              "      <th>DLPS</th>\n",
              "      <th>SDPS</th>\n",
              "      <th>PDPS</th>\n",
              "      <th>ASTV</th>\n",
              "      <th>MSTV</th>\n",
              "      <th>ALTV</th>\n",
              "      <th>MLTV</th>\n",
              "      <th>Width</th>\n",
              "      <th>Min</th>\n",
              "      <th>Max</th>\n",
              "      <th>NSP</th>\n",
              "    </tr>\n",
              "  </thead>\n",
              "  <tbody>\n",
              "    <tr>\n",
              "      <th>2121</th>\n",
              "      <td>140</td>\n",
              "      <td>0.000000</td>\n",
              "      <td>0.000000</td>\n",
              "      <td>0.007426</td>\n",
              "      <td>0.0</td>\n",
              "      <td>0.0</td>\n",
              "      <td>0.0</td>\n",
              "      <td>79</td>\n",
              "      <td>0.2</td>\n",
              "      <td>25</td>\n",
              "      <td>7.2</td>\n",
              "      <td>40</td>\n",
              "      <td>137</td>\n",
              "      <td>177</td>\n",
              "      <td>2</td>\n",
              "    </tr>\n",
              "    <tr>\n",
              "      <th>2122</th>\n",
              "      <td>140</td>\n",
              "      <td>0.000775</td>\n",
              "      <td>0.000000</td>\n",
              "      <td>0.006971</td>\n",
              "      <td>0.0</td>\n",
              "      <td>0.0</td>\n",
              "      <td>0.0</td>\n",
              "      <td>78</td>\n",
              "      <td>0.4</td>\n",
              "      <td>22</td>\n",
              "      <td>7.1</td>\n",
              "      <td>66</td>\n",
              "      <td>103</td>\n",
              "      <td>169</td>\n",
              "      <td>2</td>\n",
              "    </tr>\n",
              "    <tr>\n",
              "      <th>2123</th>\n",
              "      <td>140</td>\n",
              "      <td>0.000980</td>\n",
              "      <td>0.000000</td>\n",
              "      <td>0.006863</td>\n",
              "      <td>0.0</td>\n",
              "      <td>0.0</td>\n",
              "      <td>0.0</td>\n",
              "      <td>79</td>\n",
              "      <td>0.4</td>\n",
              "      <td>20</td>\n",
              "      <td>6.1</td>\n",
              "      <td>67</td>\n",
              "      <td>103</td>\n",
              "      <td>170</td>\n",
              "      <td>2</td>\n",
              "    </tr>\n",
              "    <tr>\n",
              "      <th>2124</th>\n",
              "      <td>140</td>\n",
              "      <td>0.000679</td>\n",
              "      <td>0.000000</td>\n",
              "      <td>0.006110</td>\n",
              "      <td>0.0</td>\n",
              "      <td>0.0</td>\n",
              "      <td>0.0</td>\n",
              "      <td>78</td>\n",
              "      <td>0.4</td>\n",
              "      <td>27</td>\n",
              "      <td>7.0</td>\n",
              "      <td>66</td>\n",
              "      <td>103</td>\n",
              "      <td>169</td>\n",
              "      <td>2</td>\n",
              "    </tr>\n",
              "    <tr>\n",
              "      <th>2125</th>\n",
              "      <td>142</td>\n",
              "      <td>0.001616</td>\n",
              "      <td>0.001616</td>\n",
              "      <td>0.008078</td>\n",
              "      <td>0.0</td>\n",
              "      <td>0.0</td>\n",
              "      <td>0.0</td>\n",
              "      <td>74</td>\n",
              "      <td>0.4</td>\n",
              "      <td>36</td>\n",
              "      <td>5.0</td>\n",
              "      <td>42</td>\n",
              "      <td>117</td>\n",
              "      <td>159</td>\n",
              "      <td>1</td>\n",
              "    </tr>\n",
              "  </tbody>\n",
              "</table>\n",
              "</div>\n",
              "      <button class=\"colab-df-convert\" onclick=\"convertToInteractive('df-ff408261-e85d-4340-933e-5d2de874d2a3')\"\n",
              "              title=\"Convert this dataframe to an interactive table.\"\n",
              "              style=\"display:none;\">\n",
              "        \n",
              "  <svg xmlns=\"http://www.w3.org/2000/svg\" height=\"24px\"viewBox=\"0 0 24 24\"\n",
              "       width=\"24px\">\n",
              "    <path d=\"M0 0h24v24H0V0z\" fill=\"none\"/>\n",
              "    <path d=\"M18.56 5.44l.94 2.06.94-2.06 2.06-.94-2.06-.94-.94-2.06-.94 2.06-2.06.94zm-11 1L8.5 8.5l.94-2.06 2.06-.94-2.06-.94L8.5 2.5l-.94 2.06-2.06.94zm10 10l.94 2.06.94-2.06 2.06-.94-2.06-.94-.94-2.06-.94 2.06-2.06.94z\"/><path d=\"M17.41 7.96l-1.37-1.37c-.4-.4-.92-.59-1.43-.59-.52 0-1.04.2-1.43.59L10.3 9.45l-7.72 7.72c-.78.78-.78 2.05 0 2.83L4 21.41c.39.39.9.59 1.41.59.51 0 1.02-.2 1.41-.59l7.78-7.78 2.81-2.81c.8-.78.8-2.07 0-2.86zM5.41 20L4 18.59l7.72-7.72 1.47 1.35L5.41 20z\"/>\n",
              "  </svg>\n",
              "      </button>\n",
              "      \n",
              "  <style>\n",
              "    .colab-df-container {\n",
              "      display:flex;\n",
              "      flex-wrap:wrap;\n",
              "      gap: 12px;\n",
              "    }\n",
              "\n",
              "    .colab-df-convert {\n",
              "      background-color: #E8F0FE;\n",
              "      border: none;\n",
              "      border-radius: 50%;\n",
              "      cursor: pointer;\n",
              "      display: none;\n",
              "      fill: #1967D2;\n",
              "      height: 32px;\n",
              "      padding: 0 0 0 0;\n",
              "      width: 32px;\n",
              "    }\n",
              "\n",
              "    .colab-df-convert:hover {\n",
              "      background-color: #E2EBFA;\n",
              "      box-shadow: 0px 1px 2px rgba(60, 64, 67, 0.3), 0px 1px 3px 1px rgba(60, 64, 67, 0.15);\n",
              "      fill: #174EA6;\n",
              "    }\n",
              "\n",
              "    [theme=dark] .colab-df-convert {\n",
              "      background-color: #3B4455;\n",
              "      fill: #D2E3FC;\n",
              "    }\n",
              "\n",
              "    [theme=dark] .colab-df-convert:hover {\n",
              "      background-color: #434B5C;\n",
              "      box-shadow: 0px 1px 3px 1px rgba(0, 0, 0, 0.15);\n",
              "      filter: drop-shadow(0px 1px 2px rgba(0, 0, 0, 0.3));\n",
              "      fill: #FFFFFF;\n",
              "    }\n",
              "  </style>\n",
              "\n",
              "      <script>\n",
              "        const buttonEl =\n",
              "          document.querySelector('#df-ff408261-e85d-4340-933e-5d2de874d2a3 button.colab-df-convert');\n",
              "        buttonEl.style.display =\n",
              "          google.colab.kernel.accessAllowed ? 'block' : 'none';\n",
              "\n",
              "        async function convertToInteractive(key) {\n",
              "          const element = document.querySelector('#df-ff408261-e85d-4340-933e-5d2de874d2a3');\n",
              "          const dataTable =\n",
              "            await google.colab.kernel.invokeFunction('convertToInteractive',\n",
              "                                                     [key], {});\n",
              "          if (!dataTable) return;\n",
              "\n",
              "          const docLinkHtml = 'Like what you see? Visit the ' +\n",
              "            '<a target=\"_blank\" href=https://colab.research.google.com/notebooks/data_table.ipynb>data table notebook</a>'\n",
              "            + ' to learn more about interactive tables.';\n",
              "          element.innerHTML = '';\n",
              "          dataTable['output_type'] = 'display_data';\n",
              "          await google.colab.output.renderOutput(dataTable, element);\n",
              "          const docLink = document.createElement('div');\n",
              "          docLink.innerHTML = docLinkHtml;\n",
              "          element.appendChild(docLink);\n",
              "        }\n",
              "      </script>\n",
              "    </div>\n",
              "  </div>\n",
              "  "
            ]
          },
          "metadata": {},
          "execution_count": 5
        }
      ]
    },
    {
      "cell_type": "code",
      "source": [
        "cardio_data.describe()"
      ],
      "metadata": {
        "colab": {
          "base_uri": "https://localhost:8080/",
          "height": 364
        },
        "id": "ii67HBtI46O2",
        "outputId": "1c9c1396-7fbe-4dce-c0a8-23a27c62e8ef"
      },
      "execution_count": null,
      "outputs": [
        {
          "output_type": "execute_result",
          "data": {
            "text/plain": [
              "               BPM          APC         FMPS         UCPS         DLPS  \\\n",
              "count  2126.000000  2126.000000  2126.000000  2126.000000  2126.000000   \n",
              "mean    133.303857     0.003170     0.009474     0.004357     0.001885   \n",
              "std       9.840844     0.003860     0.046670     0.002940     0.002962   \n",
              "min     106.000000     0.000000     0.000000     0.000000     0.000000   \n",
              "25%     126.000000     0.000000     0.000000     0.001876     0.000000   \n",
              "50%     133.000000     0.001630     0.000000     0.004482     0.000000   \n",
              "75%     140.000000     0.005631     0.002512     0.006525     0.003264   \n",
              "max     160.000000     0.019284     0.480634     0.014925     0.015385   \n",
              "\n",
              "              SDPS         PDPS         ASTV         MSTV        ALTV  \\\n",
              "count  2126.000000  2126.000000  2126.000000  2126.000000  2126.00000   \n",
              "mean      0.000004     0.000157    46.990122     1.332785     9.84666   \n",
              "std       0.000063     0.000580    17.192814     0.883241    18.39688   \n",
              "min       0.000000     0.000000    12.000000     0.200000     0.00000   \n",
              "25%       0.000000     0.000000    32.000000     0.700000     0.00000   \n",
              "50%       0.000000     0.000000    49.000000     1.200000     0.00000   \n",
              "75%       0.000000     0.000000    61.000000     1.700000    11.00000   \n",
              "max       0.001353     0.005348    87.000000     7.000000    91.00000   \n",
              "\n",
              "              MLTV        Width          Min          Max          NSP  \n",
              "count  2126.000000  2126.000000  2126.000000  2126.000000  2126.000000  \n",
              "mean      8.187629    70.445908    93.579492   164.025400     1.304327  \n",
              "std       5.628247    38.955693    29.560212    17.944183     0.614377  \n",
              "min       0.000000     3.000000    50.000000   122.000000     1.000000  \n",
              "25%       4.600000    37.000000    67.000000   152.000000     1.000000  \n",
              "50%       7.400000    67.500000    93.000000   162.000000     1.000000  \n",
              "75%      10.800000   100.000000   120.000000   174.000000     1.000000  \n",
              "max      50.700000   180.000000   159.000000   238.000000     3.000000  "
            ],
            "text/html": [
              "\n",
              "  <div id=\"df-b17bb111-e039-4961-be3e-b909778ad5f0\">\n",
              "    <div class=\"colab-df-container\">\n",
              "      <div>\n",
              "<style scoped>\n",
              "    .dataframe tbody tr th:only-of-type {\n",
              "        vertical-align: middle;\n",
              "    }\n",
              "\n",
              "    .dataframe tbody tr th {\n",
              "        vertical-align: top;\n",
              "    }\n",
              "\n",
              "    .dataframe thead th {\n",
              "        text-align: right;\n",
              "    }\n",
              "</style>\n",
              "<table border=\"1\" class=\"dataframe\">\n",
              "  <thead>\n",
              "    <tr style=\"text-align: right;\">\n",
              "      <th></th>\n",
              "      <th>BPM</th>\n",
              "      <th>APC</th>\n",
              "      <th>FMPS</th>\n",
              "      <th>UCPS</th>\n",
              "      <th>DLPS</th>\n",
              "      <th>SDPS</th>\n",
              "      <th>PDPS</th>\n",
              "      <th>ASTV</th>\n",
              "      <th>MSTV</th>\n",
              "      <th>ALTV</th>\n",
              "      <th>MLTV</th>\n",
              "      <th>Width</th>\n",
              "      <th>Min</th>\n",
              "      <th>Max</th>\n",
              "      <th>NSP</th>\n",
              "    </tr>\n",
              "  </thead>\n",
              "  <tbody>\n",
              "    <tr>\n",
              "      <th>count</th>\n",
              "      <td>2126.000000</td>\n",
              "      <td>2126.000000</td>\n",
              "      <td>2126.000000</td>\n",
              "      <td>2126.000000</td>\n",
              "      <td>2126.000000</td>\n",
              "      <td>2126.000000</td>\n",
              "      <td>2126.000000</td>\n",
              "      <td>2126.000000</td>\n",
              "      <td>2126.000000</td>\n",
              "      <td>2126.00000</td>\n",
              "      <td>2126.000000</td>\n",
              "      <td>2126.000000</td>\n",
              "      <td>2126.000000</td>\n",
              "      <td>2126.000000</td>\n",
              "      <td>2126.000000</td>\n",
              "    </tr>\n",
              "    <tr>\n",
              "      <th>mean</th>\n",
              "      <td>133.303857</td>\n",
              "      <td>0.003170</td>\n",
              "      <td>0.009474</td>\n",
              "      <td>0.004357</td>\n",
              "      <td>0.001885</td>\n",
              "      <td>0.000004</td>\n",
              "      <td>0.000157</td>\n",
              "      <td>46.990122</td>\n",
              "      <td>1.332785</td>\n",
              "      <td>9.84666</td>\n",
              "      <td>8.187629</td>\n",
              "      <td>70.445908</td>\n",
              "      <td>93.579492</td>\n",
              "      <td>164.025400</td>\n",
              "      <td>1.304327</td>\n",
              "    </tr>\n",
              "    <tr>\n",
              "      <th>std</th>\n",
              "      <td>9.840844</td>\n",
              "      <td>0.003860</td>\n",
              "      <td>0.046670</td>\n",
              "      <td>0.002940</td>\n",
              "      <td>0.002962</td>\n",
              "      <td>0.000063</td>\n",
              "      <td>0.000580</td>\n",
              "      <td>17.192814</td>\n",
              "      <td>0.883241</td>\n",
              "      <td>18.39688</td>\n",
              "      <td>5.628247</td>\n",
              "      <td>38.955693</td>\n",
              "      <td>29.560212</td>\n",
              "      <td>17.944183</td>\n",
              "      <td>0.614377</td>\n",
              "    </tr>\n",
              "    <tr>\n",
              "      <th>min</th>\n",
              "      <td>106.000000</td>\n",
              "      <td>0.000000</td>\n",
              "      <td>0.000000</td>\n",
              "      <td>0.000000</td>\n",
              "      <td>0.000000</td>\n",
              "      <td>0.000000</td>\n",
              "      <td>0.000000</td>\n",
              "      <td>12.000000</td>\n",
              "      <td>0.200000</td>\n",
              "      <td>0.00000</td>\n",
              "      <td>0.000000</td>\n",
              "      <td>3.000000</td>\n",
              "      <td>50.000000</td>\n",
              "      <td>122.000000</td>\n",
              "      <td>1.000000</td>\n",
              "    </tr>\n",
              "    <tr>\n",
              "      <th>25%</th>\n",
              "      <td>126.000000</td>\n",
              "      <td>0.000000</td>\n",
              "      <td>0.000000</td>\n",
              "      <td>0.001876</td>\n",
              "      <td>0.000000</td>\n",
              "      <td>0.000000</td>\n",
              "      <td>0.000000</td>\n",
              "      <td>32.000000</td>\n",
              "      <td>0.700000</td>\n",
              "      <td>0.00000</td>\n",
              "      <td>4.600000</td>\n",
              "      <td>37.000000</td>\n",
              "      <td>67.000000</td>\n",
              "      <td>152.000000</td>\n",
              "      <td>1.000000</td>\n",
              "    </tr>\n",
              "    <tr>\n",
              "      <th>50%</th>\n",
              "      <td>133.000000</td>\n",
              "      <td>0.001630</td>\n",
              "      <td>0.000000</td>\n",
              "      <td>0.004482</td>\n",
              "      <td>0.000000</td>\n",
              "      <td>0.000000</td>\n",
              "      <td>0.000000</td>\n",
              "      <td>49.000000</td>\n",
              "      <td>1.200000</td>\n",
              "      <td>0.00000</td>\n",
              "      <td>7.400000</td>\n",
              "      <td>67.500000</td>\n",
              "      <td>93.000000</td>\n",
              "      <td>162.000000</td>\n",
              "      <td>1.000000</td>\n",
              "    </tr>\n",
              "    <tr>\n",
              "      <th>75%</th>\n",
              "      <td>140.000000</td>\n",
              "      <td>0.005631</td>\n",
              "      <td>0.002512</td>\n",
              "      <td>0.006525</td>\n",
              "      <td>0.003264</td>\n",
              "      <td>0.000000</td>\n",
              "      <td>0.000000</td>\n",
              "      <td>61.000000</td>\n",
              "      <td>1.700000</td>\n",
              "      <td>11.00000</td>\n",
              "      <td>10.800000</td>\n",
              "      <td>100.000000</td>\n",
              "      <td>120.000000</td>\n",
              "      <td>174.000000</td>\n",
              "      <td>1.000000</td>\n",
              "    </tr>\n",
              "    <tr>\n",
              "      <th>max</th>\n",
              "      <td>160.000000</td>\n",
              "      <td>0.019284</td>\n",
              "      <td>0.480634</td>\n",
              "      <td>0.014925</td>\n",
              "      <td>0.015385</td>\n",
              "      <td>0.001353</td>\n",
              "      <td>0.005348</td>\n",
              "      <td>87.000000</td>\n",
              "      <td>7.000000</td>\n",
              "      <td>91.00000</td>\n",
              "      <td>50.700000</td>\n",
              "      <td>180.000000</td>\n",
              "      <td>159.000000</td>\n",
              "      <td>238.000000</td>\n",
              "      <td>3.000000</td>\n",
              "    </tr>\n",
              "  </tbody>\n",
              "</table>\n",
              "</div>\n",
              "      <button class=\"colab-df-convert\" onclick=\"convertToInteractive('df-b17bb111-e039-4961-be3e-b909778ad5f0')\"\n",
              "              title=\"Convert this dataframe to an interactive table.\"\n",
              "              style=\"display:none;\">\n",
              "        \n",
              "  <svg xmlns=\"http://www.w3.org/2000/svg\" height=\"24px\"viewBox=\"0 0 24 24\"\n",
              "       width=\"24px\">\n",
              "    <path d=\"M0 0h24v24H0V0z\" fill=\"none\"/>\n",
              "    <path d=\"M18.56 5.44l.94 2.06.94-2.06 2.06-.94-2.06-.94-.94-2.06-.94 2.06-2.06.94zm-11 1L8.5 8.5l.94-2.06 2.06-.94-2.06-.94L8.5 2.5l-.94 2.06-2.06.94zm10 10l.94 2.06.94-2.06 2.06-.94-2.06-.94-.94-2.06-.94 2.06-2.06.94z\"/><path d=\"M17.41 7.96l-1.37-1.37c-.4-.4-.92-.59-1.43-.59-.52 0-1.04.2-1.43.59L10.3 9.45l-7.72 7.72c-.78.78-.78 2.05 0 2.83L4 21.41c.39.39.9.59 1.41.59.51 0 1.02-.2 1.41-.59l7.78-7.78 2.81-2.81c.8-.78.8-2.07 0-2.86zM5.41 20L4 18.59l7.72-7.72 1.47 1.35L5.41 20z\"/>\n",
              "  </svg>\n",
              "      </button>\n",
              "      \n",
              "  <style>\n",
              "    .colab-df-container {\n",
              "      display:flex;\n",
              "      flex-wrap:wrap;\n",
              "      gap: 12px;\n",
              "    }\n",
              "\n",
              "    .colab-df-convert {\n",
              "      background-color: #E8F0FE;\n",
              "      border: none;\n",
              "      border-radius: 50%;\n",
              "      cursor: pointer;\n",
              "      display: none;\n",
              "      fill: #1967D2;\n",
              "      height: 32px;\n",
              "      padding: 0 0 0 0;\n",
              "      width: 32px;\n",
              "    }\n",
              "\n",
              "    .colab-df-convert:hover {\n",
              "      background-color: #E2EBFA;\n",
              "      box-shadow: 0px 1px 2px rgba(60, 64, 67, 0.3), 0px 1px 3px 1px rgba(60, 64, 67, 0.15);\n",
              "      fill: #174EA6;\n",
              "    }\n",
              "\n",
              "    [theme=dark] .colab-df-convert {\n",
              "      background-color: #3B4455;\n",
              "      fill: #D2E3FC;\n",
              "    }\n",
              "\n",
              "    [theme=dark] .colab-df-convert:hover {\n",
              "      background-color: #434B5C;\n",
              "      box-shadow: 0px 1px 3px 1px rgba(0, 0, 0, 0.15);\n",
              "      filter: drop-shadow(0px 1px 2px rgba(0, 0, 0, 0.3));\n",
              "      fill: #FFFFFF;\n",
              "    }\n",
              "  </style>\n",
              "\n",
              "      <script>\n",
              "        const buttonEl =\n",
              "          document.querySelector('#df-b17bb111-e039-4961-be3e-b909778ad5f0 button.colab-df-convert');\n",
              "        buttonEl.style.display =\n",
              "          google.colab.kernel.accessAllowed ? 'block' : 'none';\n",
              "\n",
              "        async function convertToInteractive(key) {\n",
              "          const element = document.querySelector('#df-b17bb111-e039-4961-be3e-b909778ad5f0');\n",
              "          const dataTable =\n",
              "            await google.colab.kernel.invokeFunction('convertToInteractive',\n",
              "                                                     [key], {});\n",
              "          if (!dataTable) return;\n",
              "\n",
              "          const docLinkHtml = 'Like what you see? Visit the ' +\n",
              "            '<a target=\"_blank\" href=https://colab.research.google.com/notebooks/data_table.ipynb>data table notebook</a>'\n",
              "            + ' to learn more about interactive tables.';\n",
              "          element.innerHTML = '';\n",
              "          dataTable['output_type'] = 'display_data';\n",
              "          await google.colab.output.renderOutput(dataTable, element);\n",
              "          const docLink = document.createElement('div');\n",
              "          docLink.innerHTML = docLinkHtml;\n",
              "          element.appendChild(docLink);\n",
              "        }\n",
              "      </script>\n",
              "    </div>\n",
              "  </div>\n",
              "  "
            ]
          },
          "metadata": {},
          "execution_count": 7
        }
      ]
    },
    {
      "cell_type": "code",
      "source": [
        "cardio_data.info()"
      ],
      "metadata": {
        "colab": {
          "base_uri": "https://localhost:8080/"
        },
        "id": "kHTS5zPK4_Sn",
        "outputId": "3a1a2093-1a1a-4600-c293-364a4a7d5b1c"
      },
      "execution_count": null,
      "outputs": [
        {
          "output_type": "stream",
          "name": "stdout",
          "text": [
            "<class 'pandas.core.frame.DataFrame'>\n",
            "RangeIndex: 2126 entries, 0 to 2125\n",
            "Data columns (total 15 columns):\n",
            " #   Column  Non-Null Count  Dtype  \n",
            "---  ------  --------------  -----  \n",
            " 0   BPM     2126 non-null   int64  \n",
            " 1   APC     2126 non-null   float64\n",
            " 2   FMPS    2126 non-null   float64\n",
            " 3   UCPS    2126 non-null   float64\n",
            " 4   DLPS    2126 non-null   float64\n",
            " 5   SDPS    2126 non-null   float64\n",
            " 6   PDPS    2126 non-null   float64\n",
            " 7   ASTV    2126 non-null   int64  \n",
            " 8   MSTV    2126 non-null   float64\n",
            " 9   ALTV    2126 non-null   int64  \n",
            " 10  MLTV    2126 non-null   float64\n",
            " 11  Width   2126 non-null   int64  \n",
            " 12  Min     2126 non-null   int64  \n",
            " 13  Max     2126 non-null   int64  \n",
            " 14  NSP     2126 non-null   int64  \n",
            "dtypes: float64(8), int64(7)\n",
            "memory usage: 249.3 KB\n"
          ]
        }
      ]
    },
    {
      "cell_type": "code",
      "source": [
        "cardio_data.shape"
      ],
      "metadata": {
        "colab": {
          "base_uri": "https://localhost:8080/"
        },
        "id": "mItKw4tf5Ebz",
        "outputId": "d209693d-5749-4a00-c02b-40cfe449d428"
      },
      "execution_count": null,
      "outputs": [
        {
          "output_type": "execute_result",
          "data": {
            "text/plain": [
              "(2126, 15)"
            ]
          },
          "metadata": {},
          "execution_count": 9
        }
      ]
    },
    {
      "cell_type": "code",
      "source": [
        "cardio_data['NSP'].value_counts()"
      ],
      "metadata": {
        "colab": {
          "base_uri": "https://localhost:8080/"
        },
        "id": "CnJqibw55MBD",
        "outputId": "44fd391b-27b3-48e6-d478-d5c88f6d881c"
      },
      "execution_count": null,
      "outputs": [
        {
          "output_type": "execute_result",
          "data": {
            "text/plain": [
              "1    1655\n",
              "2     295\n",
              "3     176\n",
              "Name: NSP, dtype: int64"
            ]
          },
          "metadata": {},
          "execution_count": 10
        }
      ]
    },
    {
      "cell_type": "code",
      "source": [
        "sns.countplot(cardio_data['NSP'])"
      ],
      "metadata": {
        "colab": {
          "base_uri": "https://localhost:8080/",
          "height": 351
        },
        "id": "9ihi2gxJ5SPX",
        "outputId": "3f0806a9-29c5-471f-827b-9400f9662502"
      },
      "execution_count": null,
      "outputs": [
        {
          "output_type": "stream",
          "name": "stderr",
          "text": [
            "/usr/local/lib/python3.7/dist-packages/seaborn/_decorators.py:43: FutureWarning: Pass the following variable as a keyword arg: x. From version 0.12, the only valid positional argument will be `data`, and passing other arguments without an explicit keyword will result in an error or misinterpretation.\n",
            "  FutureWarning\n"
          ]
        },
        {
          "output_type": "execute_result",
          "data": {
            "text/plain": [
              "<matplotlib.axes._subplots.AxesSubplot at 0x7f1cc4878690>"
            ]
          },
          "metadata": {},
          "execution_count": 11
        },
        {
          "output_type": "display_data",
          "data": {
            "text/plain": [
              "<Figure size 432x288 with 1 Axes>"
            ],
            "image/png": "[encoded data removed]"
          },
          "metadata": {
            "needs_background": "light"
          }
        }
      ]
    },
    {
      "cell_type": "code",
      "source": [
        "X = cardio_data.drop('NSP' ,axis=1)\n",
        "y = cardio_data['NSP'] -1\n",
        "\n",
        "X_train, X_test, y_train, y_test = train_test_split(X, y, test_size=\n",
        "                                                    0.2,stratify=y, random_state=99)\n",
        "\n",
        "scaler = StandardScaler()\n",
        "X_train = scaler.fit_transform(X_train)\n",
        "X_test = scaler.transform(X_test)"
      ],
      "metadata": {
        "id": "G_jTlasZ5XVm"
      },
      "execution_count": null,
      "outputs": []
    },
    {
      "cell_type": "code",
      "source": [
        "model = tf.keras.models.Sequential()\n",
        "model.add(tf.keras.layers.Dense(8,activation='relu',input_shape=(14,)))\n",
        "model.add(tf.keras.layers.Dense(3,activation='softmax'))"
      ],
      "metadata": {
        "id": "S8gwzD_V7Vuc"
      },
      "execution_count": null,
      "outputs": []
    },
    {
      "cell_type": "code",
      "source": [
        "model.compile(optimizer='adam',\n",
        "              loss = 'sparse_categorical_crossentropy',\n",
        "              metrics='accuracy')"
      ],
      "metadata": {
        "id": "1XTsZsnx8VYx"
      },
      "execution_count": null,
      "outputs": []
    },
    {
      "cell_type": "code",
      "source": [
        "model.summary()"
      ],
      "metadata": {
        "colab": {
          "base_uri": "https://localhost:8080/"
        },
        "id": "GT98HJM09JYO",
        "outputId": "7d7fa1fa-3378-468c-8a76-374effcefcee"
      },
      "execution_count": null,
      "outputs": [
        {
          "output_type": "stream",
          "name": "stdout",
          "text": [
            "Model: \"sequential_2\"\n",
            "_________________________________________________________________\n",
            " Layer (type)                Output Shape              Param #   \n",
            "=================================================================\n",
            " dense (Dense)               (None, 8)                 120       \n",
            "                                                                 \n",
            " dense_1 (Dense)             (None, 3)                 27        \n",
            "                                                                 \n",
            "=================================================================\n",
            "Total params: 147\n",
            "Trainable params: 147\n",
            "Non-trainable params: 0\n",
            "_________________________________________________________________\n"
          ]
        }
      ]
    },
    {
      "cell_type": "code",
      "source": [
        "class_weights = {0:1, 1:6, 2:7}\n",
        "\n",
        "history = model.fit(X_train, y_train, \\\n",
        "                    batch_size = 8, epochs=50,\\\n",
        "                    verbose=2, class_weight=class_weights, \\\n",
        "                    validation_split=0.2)"
      ],
      "metadata": {
        "colab": {
          "base_uri": "https://localhost:8080/"
        },
        "id": "cS9zqiPu-QJP",
        "outputId": "e122bb61-906e-4553-89c2-9ce1eba32eb3"
      },
      "execution_count": null,
      "outputs": [
        {
          "output_type": "stream",
          "name": "stdout",
          "text": [
            "Epoch 1/50\n",
            "170/170 - 0s - loss: 0.5634 - accuracy: 0.8728 - val_loss: 0.3250 - val_accuracy: 0.8706 - 413ms/epoch - 2ms/step\n",
            "Epoch 2/50\n",
            "170/170 - 0s - loss: 0.5601 - accuracy: 0.8765 - val_loss: 0.3253 - val_accuracy: 0.8676 - 378ms/epoch - 2ms/step\n",
            "Epoch 3/50\n",
            "170/170 - 0s - loss: 0.5649 - accuracy: 0.8750 - val_loss: 0.3296 - val_accuracy: 0.8676 - 389ms/epoch - 2ms/step\n",
            "Epoch 4/50\n",
            "170/170 - 0s - loss: 0.5641 - accuracy: 0.8750 - val_loss: 0.3248 - val_accuracy: 0.8676 - 467ms/epoch - 3ms/step\n",
            "Epoch 5/50\n",
            "170/170 - 0s - loss: 0.5626 - accuracy: 0.8750 - val_loss: 0.3245 - val_accuracy: 0.8765 - 387ms/epoch - 2ms/step\n",
            "Epoch 6/50\n",
            "170/170 - 0s - loss: 0.5620 - accuracy: 0.8743 - val_loss: 0.3223 - val_accuracy: 0.8735 - 393ms/epoch - 2ms/step\n",
            "Epoch 7/50\n",
            "170/170 - 0s - loss: 0.5567 - accuracy: 0.8757 - val_loss: 0.3286 - val_accuracy: 0.8676 - 376ms/epoch - 2ms/step\n",
            "Epoch 8/50\n",
            "170/170 - 0s - loss: 0.5666 - accuracy: 0.8750 - val_loss: 0.3236 - val_accuracy: 0.8706 - 385ms/epoch - 2ms/step\n",
            "Epoch 9/50\n",
            "170/170 - 0s - loss: 0.5559 - accuracy: 0.8772 - val_loss: 0.3312 - val_accuracy: 0.8676 - 379ms/epoch - 2ms/step\n",
            "Epoch 10/50\n",
            "170/170 - 0s - loss: 0.5654 - accuracy: 0.8735 - val_loss: 0.3242 - val_accuracy: 0.8735 - 373ms/epoch - 2ms/step\n",
            "Epoch 11/50\n",
            "170/170 - 0s - loss: 0.5542 - accuracy: 0.8787 - val_loss: 0.3296 - val_accuracy: 0.8676 - 450ms/epoch - 3ms/step\n",
            "Epoch 12/50\n",
            "170/170 - 0s - loss: 0.5595 - accuracy: 0.8757 - val_loss: 0.3276 - val_accuracy: 0.8676 - 455ms/epoch - 3ms/step\n",
            "Epoch 13/50\n",
            "170/170 - 0s - loss: 0.5574 - accuracy: 0.8787 - val_loss: 0.3276 - val_accuracy: 0.8676 - 454ms/epoch - 3ms/step\n",
            "Epoch 14/50\n",
            "170/170 - 0s - loss: 0.5567 - accuracy: 0.8743 - val_loss: 0.3288 - val_accuracy: 0.8676 - 387ms/epoch - 2ms/step\n",
            "Epoch 15/50\n",
            "170/170 - 0s - loss: 0.5579 - accuracy: 0.8743 - val_loss: 0.3255 - val_accuracy: 0.8735 - 450ms/epoch - 3ms/step\n",
            "Epoch 16/50\n",
            "170/170 - 0s - loss: 0.5631 - accuracy: 0.8779 - val_loss: 0.3292 - val_accuracy: 0.8647 - 388ms/epoch - 2ms/step\n",
            "Epoch 17/50\n",
            "170/170 - 0s - loss: 0.5555 - accuracy: 0.8735 - val_loss: 0.3285 - val_accuracy: 0.8618 - 419ms/epoch - 2ms/step\n",
            "Epoch 18/50\n",
            "170/170 - 0s - loss: 0.5566 - accuracy: 0.8743 - val_loss: 0.3267 - val_accuracy: 0.8676 - 415ms/epoch - 2ms/step\n",
            "Epoch 19/50\n",
            "170/170 - 0s - loss: 0.5546 - accuracy: 0.8787 - val_loss: 0.3353 - val_accuracy: 0.8647 - 464ms/epoch - 3ms/step\n",
            "Epoch 20/50\n",
            "170/170 - 0s - loss: 0.5562 - accuracy: 0.8750 - val_loss: 0.3296 - val_accuracy: 0.8676 - 392ms/epoch - 2ms/step\n",
            "Epoch 21/50\n",
            "170/170 - 0s - loss: 0.5513 - accuracy: 0.8765 - val_loss: 0.3248 - val_accuracy: 0.8706 - 457ms/epoch - 3ms/step\n",
            "Epoch 22/50\n",
            "170/170 - 0s - loss: 0.5553 - accuracy: 0.8757 - val_loss: 0.3235 - val_accuracy: 0.8735 - 377ms/epoch - 2ms/step\n",
            "Epoch 23/50\n",
            "170/170 - 0s - loss: 0.5537 - accuracy: 0.8757 - val_loss: 0.3252 - val_accuracy: 0.8676 - 387ms/epoch - 2ms/step\n",
            "Epoch 24/50\n",
            "170/170 - 0s - loss: 0.5542 - accuracy: 0.8772 - val_loss: 0.3335 - val_accuracy: 0.8588 - 381ms/epoch - 2ms/step\n",
            "Epoch 25/50\n",
            "170/170 - 0s - loss: 0.5514 - accuracy: 0.8757 - val_loss: 0.3250 - val_accuracy: 0.8706 - 374ms/epoch - 2ms/step\n",
            "Epoch 26/50\n",
            "170/170 - 0s - loss: 0.5564 - accuracy: 0.8757 - val_loss: 0.3299 - val_accuracy: 0.8676 - 385ms/epoch - 2ms/step\n",
            "Epoch 27/50\n",
            "170/170 - 0s - loss: 0.5544 - accuracy: 0.8772 - val_loss: 0.3326 - val_accuracy: 0.8735 - 454ms/epoch - 3ms/step\n",
            "Epoch 28/50\n",
            "170/170 - 0s - loss: 0.5472 - accuracy: 0.8794 - val_loss: 0.3330 - val_accuracy: 0.8588 - 456ms/epoch - 3ms/step\n",
            "Epoch 29/50\n",
            "170/170 - 0s - loss: 0.5480 - accuracy: 0.8765 - val_loss: 0.3361 - val_accuracy: 0.8618 - 454ms/epoch - 3ms/step\n",
            "Epoch 30/50\n",
            "170/170 - 0s - loss: 0.5511 - accuracy: 0.8757 - val_loss: 0.3300 - val_accuracy: 0.8647 - 453ms/epoch - 3ms/step\n",
            "Epoch 31/50\n",
            "170/170 - 0s - loss: 0.5528 - accuracy: 0.8765 - val_loss: 0.3264 - val_accuracy: 0.8676 - 377ms/epoch - 2ms/step\n",
            "Epoch 32/50\n",
            "170/170 - 0s - loss: 0.5548 - accuracy: 0.8787 - val_loss: 0.3314 - val_accuracy: 0.8647 - 378ms/epoch - 2ms/step\n",
            "Epoch 33/50\n",
            "170/170 - 0s - loss: 0.5481 - accuracy: 0.8743 - val_loss: 0.3287 - val_accuracy: 0.8647 - 453ms/epoch - 3ms/step\n",
            "Epoch 34/50\n",
            "170/170 - 0s - loss: 0.5532 - accuracy: 0.8787 - val_loss: 0.3312 - val_accuracy: 0.8618 - 371ms/epoch - 2ms/step\n",
            "Epoch 35/50\n",
            "170/170 - 0s - loss: 0.5510 - accuracy: 0.8787 - val_loss: 0.3302 - val_accuracy: 0.8618 - 453ms/epoch - 3ms/step\n",
            "Epoch 36/50\n",
            "170/170 - 0s - loss: 0.5521 - accuracy: 0.8772 - val_loss: 0.3317 - val_accuracy: 0.8735 - 382ms/epoch - 2ms/step\n",
            "Epoch 37/50\n",
            "170/170 - 0s - loss: 0.5494 - accuracy: 0.8794 - val_loss: 0.3331 - val_accuracy: 0.8676 - 382ms/epoch - 2ms/step\n",
            "Epoch 38/50\n",
            "170/170 - 0s - loss: 0.5516 - accuracy: 0.8757 - val_loss: 0.3330 - val_accuracy: 0.8618 - 382ms/epoch - 2ms/step\n",
            "Epoch 39/50\n",
            "170/170 - 0s - loss: 0.5480 - accuracy: 0.8765 - val_loss: 0.3291 - val_accuracy: 0.8618 - 446ms/epoch - 3ms/step\n",
            "Epoch 40/50\n",
            "170/170 - 0s - loss: 0.5429 - accuracy: 0.8787 - val_loss: 0.3291 - val_accuracy: 0.8588 - 453ms/epoch - 3ms/step\n",
            "Epoch 41/50\n",
            "170/170 - 0s - loss: 0.5457 - accuracy: 0.8743 - val_loss: 0.3257 - val_accuracy: 0.8735 - 455ms/epoch - 3ms/step\n",
            "Epoch 42/50\n",
            "170/170 - 0s - loss: 0.5453 - accuracy: 0.8787 - val_loss: 0.3313 - val_accuracy: 0.8647 - 398ms/epoch - 2ms/step\n",
            "Epoch 43/50\n",
            "170/170 - 0s - loss: 0.5504 - accuracy: 0.8831 - val_loss: 0.3263 - val_accuracy: 0.8735 - 380ms/epoch - 2ms/step\n",
            "Epoch 44/50\n",
            "170/170 - 0s - loss: 0.5422 - accuracy: 0.8787 - val_loss: 0.3297 - val_accuracy: 0.8647 - 376ms/epoch - 2ms/step\n",
            "Epoch 45/50\n",
            "170/170 - 0s - loss: 0.5449 - accuracy: 0.8846 - val_loss: 0.3296 - val_accuracy: 0.8618 - 379ms/epoch - 2ms/step\n",
            "Epoch 46/50\n",
            "170/170 - 0s - loss: 0.5468 - accuracy: 0.8757 - val_loss: 0.3279 - val_accuracy: 0.8647 - 447ms/epoch - 3ms/step\n",
            "Epoch 47/50\n",
            "170/170 - 0s - loss: 0.5397 - accuracy: 0.8801 - val_loss: 0.3273 - val_accuracy: 0.8765 - 407ms/epoch - 2ms/step\n",
            "Epoch 48/50\n",
            "170/170 - 0s - loss: 0.5420 - accuracy: 0.8779 - val_loss: 0.3277 - val_accuracy: 0.8676 - 380ms/epoch - 2ms/step\n",
            "Epoch 49/50\n",
            "170/170 - 0s - loss: 0.5354 - accuracy: 0.8779 - val_loss: 0.3319 - val_accuracy: 0.8618 - 449ms/epoch - 3ms/step\n",
            "Epoch 50/50\n",
            "170/170 - 0s - loss: 0.5357 - accuracy: 0.8816 - val_loss: 0.3264 - val_accuracy: 0.8706 - 392ms/epoch - 2ms/step\n"
          ]
        }
      ]
    },
    {
      "cell_type": "code",
      "source": [
        "accuracy = history.history['accuracy']\n",
        "validation_accuracy = history.history['val_accuracy']\n",
        "\n",
        "plt.plot(accuracy, label='Training Set Accuracy')\n",
        "plt.plot(validation_accuracy, label='Validation Set Accuracy')\n",
        "plt.ylabel('Accuracy')\n",
        "plt.ylim([min(plt.ylim()),1])\n",
        "plt.title('Training and Validation Accuracy Across Epochs')\n",
        "plt.legend"
      ],
      "metadata": {
        "colab": {
          "base_uri": "https://localhost:8080/",
          "height": 298
        },
        "id": "us0y8YNG_s5T",
        "outputId": "228f93ff-128d-418f-928c-78c1122e6928"
      },
      "execution_count": null,
      "outputs": [
        {
          "output_type": "execute_result",
          "data": {
            "text/plain": [
              "<function matplotlib.pyplot.legend(*args, **kwargs)>"
            ]
          },
          "metadata": {},
          "execution_count": 20
        },
        {
          "output_type": "display_data",
          "data": {
            "text/plain": [
              "<Figure size 432x288 with 1 Axes>"
            ],
            "image/png": "[encoded data removed]"
          },
          "metadata": {
            "needs_background": "light"
          }
        }
      ]
    },
    {
      "cell_type": "code",
      "source": [
        "loss = history.history['loss']\n",
        "validation_loss = history.history['val_loss']\n",
        "\n",
        "plt.plot(loss, label='TYraining Set Loss')\n",
        "plt.plot(validation_loss, label='Validation Set Loss')\n",
        "plt.ylabel(\"Loss\")\n",
        "plt.title('Training and Validation Accuracy Across Epochs')\n",
        "plt.legend()"
      ],
      "metadata": {
        "colab": {
          "base_uri": "https://localhost:8080/",
          "height": 298
        },
        "id": "CJrHwnijA5mR",
        "outputId": "4979770f-2860-4035-d9a5-5cb429cc6789"
      },
      "execution_count": null,
      "outputs": [
        {
          "output_type": "execute_result",
          "data": {
            "text/plain": [
              "<matplotlib.legend.Legend at 0x7f1c47ae1050>"
            ]
          },
          "metadata": {},
          "execution_count": 22
        },
        {
          "output_type": "display_data",
          "data": {
            "text/plain": [
              "<Figure size 432x288 with 1 Axes>"
            ],
            "image/png": "[encoded data removed]"
          },
          "metadata": {
            "needs_background": "light"
          }
        }
      ]
    },
    {
      "cell_type": "code",
      "source": [
        "from sklearn.metrics import confusion_matrix, classification_report"
      ],
      "metadata": {
        "id": "kKjIxrwNCOnv"
      },
      "execution_count": null,
      "outputs": []
    },
    {
      "cell_type": "code",
      "source": [
        "y_pred = model.predict(X_test)\n",
        "y_pred = y_pred.argmax(axis=1)"
      ],
      "metadata": {
        "colab": {
          "base_uri": "https://localhost:8080/"
        },
        "id": "41KD9cYOCZKC",
        "outputId": "fe25d0df-cf66-4d7f-8fb4-bebc91664808"
      },
      "execution_count": null,
      "outputs": [
        {
          "output_type": "stream",
          "name": "stdout",
          "text": [
            "14/14 [==============================] - 0s 2ms/step\n"
          ]
        }
      ]
    },
    {
      "cell_type": "code",
      "source": [
        "confusion_matrix = confusion_matrix(y_test,y_pred)\n",
        "\n",
        "ax = sns.heatmap(confusion_matrix, cmap='flare',annot=True,fmt='d')\n",
        "\n",
        "plt.xlabel(\"Predicted Class\",fontsize=12)\n",
        "plt.ylabel(\"Trie Class\",fontsize=12)\n",
        "plt.title(\"Confusion Matrix\",fontsize=12)\n",
        "\n",
        "plt.show()"
      ],
      "metadata": {
        "colab": {
          "base_uri": "https://localhost:8080/",
          "height": 298
        },
        "id": "TsDiN26FC04e",
        "outputId": "cf54c799-e1c8-41a0-ceb9-9df23b15e040"
      },
      "execution_count": null,
      "outputs": [
        {
          "output_type": "display_data",
          "data": {
            "text/plain": [
              "<Figure size 432x288 with 2 Axes>"
            ],
            "image/png": "[encoded data removed]"
          },
          "metadata": {
            "needs_background": "light"
          }
        }
      ]
    },
    {
      "cell_type": "code",
      "source": [
        "print(classification_report(y_test,y_pred))"
      ],
      "metadata": {
        "colab": {
          "base_uri": "https://localhost:8080/"
        },
        "id": "NWtGZPS5DqDj",
        "outputId": "adc6a1ad-aebf-4ce8-810f-d7f6f2c33978"
      },
      "execution_count": null,
      "outputs": [
        {
          "output_type": "stream",
          "name": "stdout",
          "text": [
            "              precision    recall  f1-score   support\n",
            "\n",
            "           0       0.99      0.85      0.92       332\n",
            "           1       0.51      0.78      0.61        59\n",
            "           2       0.52      0.74      0.61        35\n",
            "\n",
            "    accuracy                           0.83       426\n",
            "   macro avg       0.67      0.79      0.71       426\n",
            "weighted avg       0.89      0.83      0.85       426\n",
            "\n"
          ]
        }
      ]
    }
  ]
}